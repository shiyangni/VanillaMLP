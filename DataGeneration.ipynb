{
 "cells": [
  {
   "cell_type": "markdown",
   "metadata": {},
   "source": [
    "## Data Generation for Testing VanillaMLP framework"
   ]
  },
  {
   "cell_type": "code",
   "execution_count": 1,
   "metadata": {},
   "outputs": [],
   "source": [
    "import pandas as pd\n",
    "import numpy as np\n",
    "\n",
    "from IPython.core.interactiveshell import InteractiveShell\n",
    "InteractiveShell.ast_node_interactivity = \"all\"\n"
   ]
  },
  {
   "cell_type": "markdown",
   "metadata": {},
   "source": [
    "### 1. Correctness Test"
   ]
  },
  {
   "cell_type": "code",
   "execution_count": 54,
   "metadata": {},
   "outputs": [],
   "source": [
    "## Returns a dataset of (Y, X) where X is an n x (p + 1) matrix whose first columns is 1s. Each y_i = weights * X_i + b_i + error_i, where \n",
    "## all error_i follow i.i.d. N(0,1).\n",
    "\n",
    "def generate_linear_data(n, p, weights, bias, error_sd=0.1):\n",
    "    dataDict = {}\n",
    "    x0 = np.ones(n)\n",
    "    dataDict['y'] = np.zeros(n)\n",
    "    dataDict['y'] += x0 * bias\n",
    "    for i in range(1, p + 1):\n",
    "        x_name = 'x' + str(i)\n",
    "        x_values = np.random.normal(i, 0.5, n)\n",
    "        dataDict['y'] += x_values * weights[i - 1]\n",
    "        dataDict[x_name] = x_values\n",
    "    errors = np.random.normal(0, error_sd, n)\n",
    "    dataDict['y'] += errors\n",
    "    df = pd.DataFrame(dataDict)\n",
    "    return df"
   ]
  },
  {
   "cell_type": "code",
   "execution_count": 79,
   "metadata": {},
   "outputs": [],
   "source": [
    "np.random.seed(123)\n",
    "data_linear_small = generate_linear_data(35, 7, [1,3,34,23,15,17,8], 0, error_sd=0.0001)\n",
    "data_linear_large = generate_linear_data(3500, 7, [1,3,34,23,15,17,8], 0, error_sd=0.0001)\n"
   ]
  },
  {
   "cell_type": "code",
   "execution_count": 80,
   "metadata": {},
   "outputs": [],
   "source": [
    "data_linear_small.to_csv(\"data_linear_small.csv\")\n",
    "data_linear_large.to_csv(\"data_linear_large.csv\")"
   ]
  }
 ],
 "metadata": {
  "kernelspec": {
   "display_name": "Python 3",
   "language": "python",
   "name": "python3"
  },
  "language_info": {
   "codemirror_mode": {
    "name": "ipython",
    "version": 3
   },
   "file_extension": ".py",
   "mimetype": "text/x-python",
   "name": "python",
   "nbconvert_exporter": "python",
   "pygments_lexer": "ipython3",
   "version": "3.7.4"
  }
 },
 "nbformat": 4,
 "nbformat_minor": 2
}
